{
 "cells": [
  {
   "cell_type": "code",
   "execution_count": 9,
   "metadata": {},
   "outputs": [],
   "source": [
    "import torch\n",
    "import torch.nn as nn"
   ]
  },
  {
   "cell_type": "markdown",
   "metadata": {},
   "source": [
    "### LeNet Implementation for gray-scale image (in_channel = 1) with size (28,28)"
   ]
  },
  {
   "cell_type": "code",
   "execution_count": 10,
   "metadata": {},
   "outputs": [],
   "source": [
    "class LeNet(nn.Module):\n",
    "    def __init__(self, in_channels, lr=0.1, num_classes=10):\n",
    "        super().__init__()\n",
    "        self.net = nn.Sequential(\n",
    "            # Convolution layer 1\n",
    "            nn.Conv2d(\n",
    "                in_channels=in_channels,\n",
    "                out_channels=6,\n",
    "                kernel_size=5,\n",
    "                padding=2,\n",
    "            ),\n",
    "            nn.Sigmoid(),\n",
    "            # Pooling layer 1\n",
    "            nn.AvgPool2d(kernel_size=2, stride=2),\n",
    "            # Convolution layer 2\n",
    "            nn.Conv2d(\n",
    "                in_channels=6,\n",
    "                out_channels=16,\n",
    "                kernel_size=5\n",
    "            ),\n",
    "            nn.Sigmoid(),\n",
    "            # Pooling layer 2\n",
    "            nn.AvgPool2d(kernel_size=2, stride=2),\n",
    "            nn.Flatten(), # For switch between convolution to linear layer \n",
    "            # FC1 (Fully Connected/Linear Layer 1)\n",
    "            nn.Linear(in_features=16*5*5, out_features=120),\n",
    "            nn.Sigmoid(),\n",
    "            # FC2 (Fully Connected/Linear Layer 2)\n",
    "            nn.Linear(in_features=120, out_features=84,),\n",
    "            nn.Sigmoid(),\n",
    "            # FC3 (Final Linear layer with outfeatures = num of classes)\n",
    "            nn.Linear(in_features=84, out_features=num_classes)\n",
    "\n",
    "\n",
    "        )\n",
    "\n",
    "    def forward(self, x):\n",
    "        return self.net(x)\n",
    "    \n",
    "    def layer_summary(self, x):\n",
    "        for layer in self.net:\n",
    "            x = layer(x)\n",
    "            if isinstance(layer, (nn.Conv2d, nn.Linear, nn.AvgPool2d, nn.Flatten)):\n",
    "                print(f\"{layer.__class__.__name__}: {x.shape}\")"
   ]
  },
  {
   "cell_type": "code",
   "execution_count": 11,
   "metadata": {},
   "outputs": [
    {
     "data": {
      "text/plain": [
       "LeNet(\n",
       "  (net): Sequential(\n",
       "    (0): Conv2d(1, 6, kernel_size=(5, 5), stride=(1, 1), padding=(2, 2))\n",
       "    (1): Sigmoid()\n",
       "    (2): AvgPool2d(kernel_size=2, stride=2, padding=0)\n",
       "    (3): Conv2d(6, 16, kernel_size=(5, 5), stride=(1, 1))\n",
       "    (4): Sigmoid()\n",
       "    (5): AvgPool2d(kernel_size=2, stride=2, padding=0)\n",
       "    (6): Flatten(start_dim=1, end_dim=-1)\n",
       "    (7): Linear(in_features=400, out_features=120, bias=True)\n",
       "    (8): Sigmoid()\n",
       "    (9): Linear(in_features=120, out_features=84, bias=True)\n",
       "    (10): Sigmoid()\n",
       "    (11): Linear(in_features=84, out_features=10, bias=True)\n",
       "  )\n",
       ")"
      ]
     },
     "execution_count": 11,
     "metadata": {},
     "output_type": "execute_result"
    }
   ],
   "source": [
    "in_channels = 1\n",
    "num_classes = 10\n",
    "model = LeNet(in_channels=in_channels, num_classes=num_classes)\n",
    "model"
   ]
  },
  {
   "cell_type": "code",
   "execution_count": 12,
   "metadata": {},
   "outputs": [
    {
     "name": "stdout",
     "output_type": "stream",
     "text": [
      "torch.Size([1, 1, 28, 28]) \n",
      "\n",
      "\n",
      "Conv2d: torch.Size([1, 6, 28, 28])\n",
      "AvgPool2d: torch.Size([1, 6, 14, 14])\n",
      "Conv2d: torch.Size([1, 16, 10, 10])\n",
      "AvgPool2d: torch.Size([1, 16, 5, 5])\n",
      "Flatten: torch.Size([1, 400])\n",
      "Linear: torch.Size([1, 120])\n",
      "Linear: torch.Size([1, 84])\n",
      "Linear: torch.Size([1, 10])\n"
     ]
    }
   ],
   "source": [
    "X = torch.randn((1, 1, 28, 28))\n",
    "print(X.shape,'\\n\\n')\n",
    "model.layer_summary(X)"
   ]
  },
  {
   "cell_type": "markdown",
   "metadata": {},
   "source": [
    "### LeNet Implementation Independent of Image Size"
   ]
  },
  {
   "cell_type": "code",
   "execution_count": 13,
   "metadata": {},
   "outputs": [],
   "source": [
    "class DynamicLeNet(nn.Module):\n",
    "    def __init__(self, in_channels, image_size, lr=0.1, num_classes=10):\n",
    "        super().__init__()\n",
    "        self.conv1 = nn.Conv2d(\n",
    "            in_channels=in_channels,\n",
    "            out_channels=6,\n",
    "            kernel_size=5,\n",
    "            padding=2\n",
    "        )\n",
    "        self.sigmoid1 = nn.Sigmoid()\n",
    "        self.avgpool1 = nn.AvgPool2d(kernel_size=2, stride=2)\n",
    "        self.conv2 = nn.Conv2d(\n",
    "            in_channels=6,\n",
    "            out_channels=16,\n",
    "            kernel_size=5\n",
    "\n",
    "        )\n",
    "        self.sigmoid2 = nn.Sigmoid()\n",
    "        self.avgpool2 = nn.AvgPool2d(kernel_size=2, stride=2)\n",
    "\n",
    "        self.convlayer = nn.Sequential(\n",
    "            self.conv1,\n",
    "            self.sigmoid1,\n",
    "            self.avgpool1,\n",
    "            self.conv2,\n",
    "            self.sigmoid2,\n",
    "            self.avgpool2\n",
    "        )\n",
    "\n",
    "        self.flattened_size = self.convlayer(torch.zeros(\n",
    "            1, in_channels, image_size, image_size)).shape[1]\n",
    "\n",
    "        self.fc1 = nn.Linear(in_features=self.flattened_size, out_features=120)\n",
    "        self.sigmoid3 = nn.Sigmoid()\n",
    "        self.fc2 = nn.Linear(in_features=120, out_features=84)\n",
    "        self.sigmoid4 = nn.Sigmoid()\n",
    "        self.fc3 = nn.Linear(in_features=84, out_features=num_classes)\n",
    "\n",
    "        self.fullyconnected = nn.Sequential(\n",
    "            self.fc1, self.sigmoid3, self.fc2, self.sigmoid4, self.fc3\n",
    "        )\n",
    "\n",
    "    def forward(self, x):\n",
    "        x = self.convlayer(x)\n",
    "        x = x.view(-1, self.flattened_size)\n",
    "        x = self.fullyconnected(x)\n",
    "        return x\n",
    "    \n",
    "    def layer_summary(self, x):\n",
    "        for layer in self.convlayer:\n",
    "            x = layer(x)\n",
    "            if isinstance(layer, (nn.Conv2d, nn.Linear, nn.AvgPool2d)):\n",
    "                print(f\"{layer.__class__.__name__}: {x.shape}\")\n",
    "        x = x.view(-1, self.flattened_size)\n",
    "        print(f\"Flatten Layer: {self.flattened_size}\")\n",
    "        for layer in self.fullyconnected:\n",
    "            x = layer(x)\n",
    "            if isinstance(layer, nn.Linear):\n",
    "                print(f\"{layer.__class__.__name__}: {x.shape}\")\n",
    "\n"
   ]
  },
  {
   "cell_type": "code",
   "execution_count": 14,
   "metadata": {},
   "outputs": [
    {
     "data": {
      "text/plain": [
       "DynamicLeNet(\n",
       "  (conv1): Conv2d(1, 6, kernel_size=(5, 5), stride=(1, 1), padding=(2, 2))\n",
       "  (sigmoid1): Sigmoid()\n",
       "  (avgpool1): AvgPool2d(kernel_size=2, stride=2, padding=0)\n",
       "  (conv2): Conv2d(6, 16, kernel_size=(5, 5), stride=(1, 1))\n",
       "  (sigmoid2): Sigmoid()\n",
       "  (avgpool2): AvgPool2d(kernel_size=2, stride=2, padding=0)\n",
       "  (convlayer): Sequential(\n",
       "    (0): Conv2d(1, 6, kernel_size=(5, 5), stride=(1, 1), padding=(2, 2))\n",
       "    (1): Sigmoid()\n",
       "    (2): AvgPool2d(kernel_size=2, stride=2, padding=0)\n",
       "    (3): Conv2d(6, 16, kernel_size=(5, 5), stride=(1, 1))\n",
       "    (4): Sigmoid()\n",
       "    (5): AvgPool2d(kernel_size=2, stride=2, padding=0)\n",
       "  )\n",
       "  (fc1): Linear(in_features=16, out_features=120, bias=True)\n",
       "  (sigmoid3): Sigmoid()\n",
       "  (fc2): Linear(in_features=120, out_features=84, bias=True)\n",
       "  (sigmoid4): Sigmoid()\n",
       "  (fc3): Linear(in_features=84, out_features=10, bias=True)\n",
       "  (fullyconnected): Sequential(\n",
       "    (0): Linear(in_features=16, out_features=120, bias=True)\n",
       "    (1): Sigmoid()\n",
       "    (2): Linear(in_features=120, out_features=84, bias=True)\n",
       "    (3): Sigmoid()\n",
       "    (4): Linear(in_features=84, out_features=10, bias=True)\n",
       "  )\n",
       ")"
      ]
     },
     "execution_count": 14,
     "metadata": {},
     "output_type": "execute_result"
    }
   ],
   "source": [
    "in_channels = 1\n",
    "num_classes = 10\n",
    "image_size = 32\n",
    "model = DynamicLeNet(in_channels=in_channels,\n",
    "                     num_classes=num_classes,\n",
    "                     image_size=image_size,)\n",
    "model"
   ]
  },
  {
   "cell_type": "code",
   "execution_count": 15,
   "metadata": {},
   "outputs": [
    {
     "name": "stdout",
     "output_type": "stream",
     "text": [
      "torch.Size([1, 1, 32, 32]) \n",
      "\n",
      "Conv2d: torch.Size([1, 6, 32, 32])\n",
      "AvgPool2d: torch.Size([1, 6, 16, 16])\n",
      "Conv2d: torch.Size([1, 16, 12, 12])\n",
      "AvgPool2d: torch.Size([1, 16, 6, 6])\n",
      "Flatten Layer: 16\n",
      "Linear: torch.Size([36, 120])\n",
      "Linear: torch.Size([36, 84])\n",
      "Linear: torch.Size([36, 10])\n"
     ]
    }
   ],
   "source": [
    "X = torch.randn((1, 1, image_size, image_size))\n",
    "print(X.shape, '\\n')\n",
    "model.layer_summary(X)"
   ]
  },
  {
   "cell_type": "code",
   "execution_count": null,
   "metadata": {},
   "outputs": [],
   "source": []
  },
  {
   "cell_type": "code",
   "execution_count": null,
   "metadata": {},
   "outputs": [],
   "source": []
  }
 ],
 "metadata": {
  "kernelspec": {
   "display_name": "deep-env",
   "language": "python",
   "name": "python3"
  },
  "language_info": {
   "codemirror_mode": {
    "name": "ipython",
    "version": 3
   },
   "file_extension": ".py",
   "mimetype": "text/x-python",
   "name": "python",
   "nbconvert_exporter": "python",
   "pygments_lexer": "ipython3",
   "version": "3.11.10"
  }
 },
 "nbformat": 4,
 "nbformat_minor": 2
}
